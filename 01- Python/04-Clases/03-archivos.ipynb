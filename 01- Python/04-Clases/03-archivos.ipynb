{
 "cells": [
  {
   "cell_type": "code",
   "execution_count": 5,
   "metadata": {},
   "outputs": [
    {
     "name": "stdout",
     "output_type": "stream",
     "text": [
      "['Buenos dias']\n",
      "<class 'list'>\n"
     ]
    }
   ],
   "source": [
    "try:\n",
    "    path = \"./frases.txt\"## para ir mas atraas ../../\n",
    "    archivo_abierto = open(path)\n",
    "    linea_uno = archivo_abierto.readlines()\n",
    "    print(linea_uno)\n",
    "    print (type(linea_uno))\n",
    "   #print(lista_lineas)\n",
    "except Exception as Error:\n",
    "    print(\"Error leyendo el archivo\")"
   ]
  },
  {
   "cell_type": "code",
   "execution_count": null,
   "metadata": {},
   "outputs": [],
   "source": [
    " path = \"./frases.txt\"## para ir mas atraas ../../\n",
    "    archivo_abierto = open(path,'w')\n",
    "   # linea_uno = archivo_abierto.readline()\n",
    "   # print(linea_uno)\n",
    "    #lista_lineas =  archivo_abierto.readlines()\n",
    "    #print(lista_lineas)\n",
    "    #except Exception as Error:\n",
    "    #print(\"Error leyendo el archivo\")"
   ]
  }
 ],
 "metadata": {
  "kernelspec": {
   "display_name": "Python 3",
   "language": "python",
   "name": "python3"
  },
  "language_info": {
   "codemirror_mode": {
    "name": "ipython",
    "version": 3
   },
   "file_extension": ".py",
   "mimetype": "text/x-python",
   "name": "python",
   "nbconvert_exporter": "python",
   "pygments_lexer": "ipython3",
   "version": "3.7.6"
  }
 },
 "nbformat": 4,
 "nbformat_minor": 4
}
