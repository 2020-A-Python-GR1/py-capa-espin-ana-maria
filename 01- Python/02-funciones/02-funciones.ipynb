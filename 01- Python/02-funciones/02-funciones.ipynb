{
 "cells": [
  {
   "cell_type": "code",
   "execution_count": 2,
   "metadata": {},
   "outputs": [
    {
     "name": "stdout",
     "output_type": "stream",
     "text": [
      "Holamundo\n"
     ]
    },
    {
     "data": {
      "text/plain": [
       "NoneType"
      ]
     },
     "execution_count": 2,
     "metadata": {},
     "output_type": "execute_result"
    }
   ],
   "source": [
    "# Funciones, una funcion que no devuelve nada\n",
    "#devuelve None\n",
    "def hola_mundo():\n",
    "    print(\"Holamundo\")\n",
    "type(hola_mundo())"
   ]
  },
  {
   "cell_type": "code",
   "execution_count": 6,
   "metadata": {},
   "outputs": [
    {
     "name": "stdout",
     "output_type": "stream",
     "text": [
      "La sumade 5 y 9 es igual a 14\n"
     ]
    }
   ],
   "source": [
    "#funciones con parametros definidos\n",
    "def sumar_dos_numeros (num_uno, num_dos):\n",
    "    return num_uno + num_dos\n",
    "#print (sumar_dos_numeros (5,9))\n",
    "total_suma = sumar_dos_numeros (5,9)\n",
    "print (f\"La sumade 5 y 9 es igual a {total_suma}\")"
   ]
  },
  {
   "cell_type": "code",
   "execution_count": 19,
   "metadata": {},
   "outputs": [],
   "source": [
    "#parametros opcionales\n",
    "def imprimir_universidad (nombre = \"EPN\"):#parametros opcionales\n",
    "    print(f\"Universidad:{nombre}\") #parametrO x defecto\n",
    "    imprimir_universidad()\n",
    "    imprimir_universidad(\"espe\")"
   ]
  },
  {
   "cell_type": "code",
   "execution_count": 18,
   "metadata": {},
   "outputs": [
    {
     "name": "stdout",
     "output_type": "stream",
     "text": [
      "Color: Blanco\n",
      "Placa: ABC-1234\n",
      "Horse Power: 3000\n",
      "año: 1989\n"
     ]
    }
   ],
   "source": [
    "#Mix opcionales y defininidas\n",
    "def imprimir_carro(color, placa, hp, anio = 1989):\n",
    "    print(f\"Color: {color}\")\n",
    "    print(f\"Placa: {placa}\")\n",
    "    print(f\"Horse Power: {hp}\")\n",
    "    print(f\"año: {anio}\")\n",
    "imprimir_carro(\"Blanco\",\"ABC-1234\", 3000)\n",
    "    "
   ]
  },
  {
   "cell_type": "code",
   "execution_count": 21,
   "metadata": {},
   "outputs": [
    {
     "name": "stdout",
     "output_type": "stream",
     "text": [
      "Color: Negro\n",
      "Placa: abc345\n",
      "Horse Power: 2455\n",
      "año: 1998\n"
     ]
    }
   ],
   "source": [
    "# Cuando se desea mandar en diferente orden\n",
    "# \n",
    "imprimir_carro(anio = 1998,\n",
    "              placa = \"abc345\",\n",
    "              hp = 2455,\n",
    "              color = \"Negro\")"
   ]
  },
  {
   "cell_type": "code",
   "execution_count": 22,
   "metadata": {},
   "outputs": [
    {
     "name": "stdout",
     "output_type": "stream",
     "text": [
      "Color: Plomo\n",
      "Placa: fgc-345\n",
      "Horse Power: 4555\n",
      "año: 2345\n"
     ]
    }
   ],
   "source": [
    "imprimir_carro(\"Plomo\", \"fgc-345\", anio = 2345, hp = 4555)"
   ]
  },
  {
   "cell_type": "code",
   "execution_count": 26,
   "metadata": {},
   "outputs": [
    {
     "data": {
      "text/plain": [
       "45"
      ]
     },
     "execution_count": 26,
     "metadata": {},
     "output_type": "execute_result"
    }
   ],
   "source": [
    "# sumar N cantidad de numeros\n",
    "# con * parametros infinitos\n",
    "def sumar_numeros(primer_numero,\n",
    "                 *numeros):\n",
    "    #print(primer_numero)\n",
    "    #print(numeros)\n",
    "    #print(type(numeros))\n",
    "    suma = primer_numero\n",
    "    for numero in numeros:\n",
    "        suma = suma + numero\n",
    "    return suma\n",
    "sumar_numeros(1,2,3,4,5,6,7,8,9)\n",
    "    "
   ]
  },
  {
   "cell_type": "code",
   "execution_count": 30,
   "metadata": {
    "scrolled": true
   },
   "outputs": [
    {
     "name": "stdout",
     "output_type": "stream",
     "text": [
      "{'saludo': 'hola', 'mensaje': 'mundo'}\n",
      "<class 'dict'>\n"
     ]
    }
   ],
   "source": [
    "def establecer_configuracion(**kwargs):#key word arguments\n",
    "    print(kwargs)                      #parametros nombrados\n",
    "    print(type(kwargs))\n",
    "establecer_configuracion(saludo = \"hola\", mensaje = \"mundo\")\n"
   ]
  },
  {
   "cell_type": "code",
   "execution_count": 35,
   "metadata": {},
   "outputs": [],
   "source": [
    "# Reglas\n",
    "def ejemplo(requerido_uno,\n",
    "           requerid_dos,\n",
    "           opcional_uno,\n",
    "           opcional_dos,\n",
    "           *infinitos,\n",
    "           **kwargs):\n",
    "    print(\":\")"
   ]
  },
  {
   "cell_type": "code",
   "execution_count": null,
   "metadata": {},
   "outputs": [],
   "source": []
  }
 ],
 "metadata": {
  "kernelspec": {
   "display_name": "Python 3",
   "language": "python",
   "name": "python3"
  },
  "language_info": {
   "codemirror_mode": {
    "name": "ipython",
    "version": 3
   },
   "file_extension": ".py",
   "mimetype": "text/x-python",
   "name": "python",
   "nbconvert_exporter": "python",
   "pygments_lexer": "ipython3",
   "version": "3.7.6"
  }
 },
 "nbformat": 4,
 "nbformat_minor": 4
}
