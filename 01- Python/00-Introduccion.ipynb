{
 "cells": [
  {
   "cell_type": "markdown",
   "metadata": {},
   "source": []
  },
  {
   "cell_type": "code",
   "execution_count": 3,
   "metadata": {},
   "outputs": [
    {
     "name": "stdout",
     "output_type": "stream",
     "text": [
      "Hola Mundo\n"
     ]
    }
   ],
   "source": [
    "print (\"Hola Mundo\")"
   ]
  },
  {
   "cell_type": "code",
   "execution_count": 3,
   "metadata": {},
   "outputs": [
    {
     "name": "stdout",
     "output_type": "stream",
     "text": [
      "<class 'int'>\n",
      "<class 'float'>\n",
      "<class 'str'>\n",
      "<class 'str'>\n",
      "<class 'bool'>\n",
      "<class 'bool'>\n",
      "<class 'NoneType'>\n",
      "<class 'float'>\n",
      "4\n"
     ]
    }
   ],
   "source": [
    "entero = 4\n",
    "decimal = 1.1\n",
    "nombre: \"Vicente\"\n",
    "segundo_nombre=\"Adrian\"\n",
    "apellido = 'Eguez'\n",
    "casado= False\n",
    "Profesor = True\n",
    "hijos = None\n",
    "\n",
    "print (type (entero)) # 'int'\n",
    "print (type (decimal)) #'float'\n",
    "print (type (segundo_nombre))# 'str'\n",
    "print (type (apellido)) #'str'\n",
    "print (type (casado)) #'bool'\n",
    "print (type (Profesor))# 'bool'\n",
    "print (type (hijos))#'NoneType'\n",
    "print (type (float('nan')))# Not a Number\n",
    "\n",
    "# asignar dierentes variables\n",
    "print (entero)\n",
    "entero = decimal\n",
    "entero = hijos\n",
    "entero = casado\n"
   ]
  },
  {
   "cell_type": "code",
   "execution_count": 15,
   "metadata": {},
   "outputs": [
    {
     "name": "stdout",
     "output_type": "stream",
     "text": [
      "tipado fuerte kkkkkkkkkkkkkkkkkkkkkkkkkkkkkkkkkkkkkk\n"
     ]
    }
   ],
   "source": [
    "cadena_de_texto= \"\"\"tipado fuerte kkkkkkkkkkkkkkkkkkkkkkkkkkkkkkkkkkkkkk\"\"\"\n",
    "print (cadena_de_texto)\n",
    "# probar Hinterland autocompletar\n",
    "# print (ca)"
   ]
  },
  {
   "cell_type": "code",
   "execution_count": 7,
   "metadata": {
    "scrolled": true
   },
   "outputs": [
    {
     "name": "stdout",
     "output_type": "stream",
     "text": [
      "Truty\n",
      "Falsy\n"
     ]
    }
   ],
   "source": [
    "# Condiciones\n",
    "# Truty -Falsy\n",
    "tuplas =(1,2,3) # arreglos que no se pueden modificar\n",
    "listas = [4,5,6] # arreglos que se pueden modificar\n",
    "diccionario ={ \"nombre\":\"Ana\"}\n",
    "if ('Ana'):\n",
    "    # ....bloque de código del if\n",
    "    # ....\n",
    "    print ('Truty') # DEVUELVE VERDADERO\n",
    "else:\n",
    "    #...\n",
    "    #....\n",
    "    printnt ('Falsy')\n",
    "# hasta aqui responde Truty porque hay una cadena de \n",
    "# caracteres llenos Ana\n",
    "if (''): # Variablesin caracteres\n",
    "    # ....bloque de código del if\n",
    "    # ....\n",
    "    print ('Truty') # DEVUELVE VERDADERO\n",
    "else:\n",
    "    #...\n",
    "    #....\n",
    "    print ('Falsy')\n"
   ]
  },
  {
   "cell_type": "code",
   "execution_count": null,
   "metadata": {},
   "outputs": [],
   "source": []
  },
  {
   "cell_type": "code",
   "execution_count": 2,
   "metadata": {},
   "outputs": [
    {
     "name": "stderr",
     "output_type": "stream",
     "text": [
      "\"[alt\" no se reconoce como un comando interno o externo,\n",
      "programa o archivo por lotes ejecutable.\n"
     ]
    }
   ],
   "source": []
  },
  {
   "cell_type": "code",
   "execution_count": null,
   "metadata": {},
   "outputs": [],
   "source": []
  }
 ],
 "metadata": {
  "kernelspec": {
   "display_name": "Python 3",
   "language": "python",
   "name": "python3"
  },
  "language_info": {
   "codemirror_mode": {
    "name": "ipython",
    "version": 3
   },
   "file_extension": ".py",
   "mimetype": "text/x-python",
   "name": "python",
   "nbconvert_exporter": "python",
   "pygments_lexer": "ipython3",
   "version": "3.7.6"
  }
 },
 "nbformat": 4,
 "nbformat_minor": 4
}
