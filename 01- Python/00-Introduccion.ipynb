{
 "cells": [
  {
   "cell_type": "markdown",
   "metadata": {},
   "source": []
  },
  {
   "cell_type": "code",
   "execution_count": 3,
   "metadata": {},
   "outputs": [
    {
     "name": "stdout",
     "output_type": "stream",
     "text": [
      "Hola Mundo\n"
     ]
    }
   ],
   "source": [
    "print (\"Hola Mundo\")"
   ]
  },
  {
   "cell_type": "code",
   "execution_count": 11,
   "metadata": {},
   "outputs": [
    {
     "name": "stdout",
     "output_type": "stream",
     "text": [
      "<class 'int'>\n",
      "<class 'float'>\n",
      "<class 'str'>\n",
      "<class 'str'>\n",
      "<class 'bool'>\n",
      "<class 'bool'>\n",
      "<class 'NoneType'>\n",
      "<class 'float'>\n",
      "4\n"
     ]
    }
   ],
   "source": [
    "entero = 4\n",
    "decimal = 1.1\n",
    "nombre: \"Vicente\"\n",
    "segundo_nombre=\"Adrian\"\n",
    "apellido = 'Eguez'\n",
    "casado= False\n",
    "Profesor = True\n",
    "hijos = None\n",
    "\n",
    "print (type (entero)) # 'int'\n",
    "print (type (decimal)) #'float'\n",
    "print (type (segundo_nombre))# 'str'\n",
    "print (type (apellido)) #'str'\n",
    "print (type (casado)) #'bool'\n",
    "print (type (Profesor))# 'bool'\n",
    "print (type (hijos))#'NoneType'\n",
    "print (type (float('nan')))# Not a Number\n",
    "\n",
    "# asignar dierentes variables\n",
    "print (entero)\n",
    "entero = decimal\n",
    "entero = hijos\n",
    "entero = casado\n"
   ]
  },
  {
   "cell_type": "code",
   "execution_count": 15,
   "metadata": {},
   "outputs": [
    {
     "name": "stdout",
     "output_type": "stream",
     "text": [
      "tipado fuerte kkkkkkkkkkkkkkkkkkkkkkkkkkkkkkkkkkkkkk\n"
     ]
    }
   ],
   "source": [
    "cadena_de_texto= \"\"\"tipado fuerte kkkkkkkkkkkkkkkkkkkkkkkkkkkkkkkkkkkkkk\"\"\"\n",
    "print (cadena_de_texto)\n",
    "# probar Hinterland autocompletar\n",
    "# print (ca)"
   ]
  },
  {
   "cell_type": "code",
   "execution_count": 4,
   "metadata": {
    "scrolled": true
   },
   "outputs": [
    {
     "ename": "IndentationError",
     "evalue": "unindent does not match any outer indentation level (<tokenize>, line 31)",
     "output_type": "error",
     "traceback": [
      "\u001b[1;36m  File \u001b[1;32m\"<tokenize>\"\u001b[1;36m, line \u001b[1;32m31\u001b[0m\n\u001b[1;33m    if(1): #Falsy\u001b[0m\n\u001b[1;37m    ^\u001b[0m\n\u001b[1;31mIndentationError\u001b[0m\u001b[1;31m:\u001b[0m unindent does not match any outer indentation level\n"
     ]
    }
   ],
   "source": [
    "# Condiciones\n",
    "# Truty -Falsy\n",
    "tuplas =(1,2,3) # arreglos que no se pueden modificar\n",
    "listas = [4,5,6] # arreglos que se pueden modificar\n",
    "diccionario ={ \"nombre\":\"Ana\"}\n",
    "if ('Ana'):\n",
    "    # ....bloque de código del if\n",
    "    # ....\n",
    "    print ('Truty') # DEVUELVE VERDADERO\n",
    "else:\n",
    "    #...\n",
    "    #....\n",
    "    printnt ('Falsy')\n",
    "# hasta aqui responde Truty porque hay una cadena de \n",
    "# caracteres llenos Ana\n",
    "if (''): # Variablesin caracteres\n",
    "    # ....bloque de código del if\n",
    "    # ....\n",
    "    print ('Truty') # DEVUELVE VERDADERO\n",
    "else:\n",
    "    #...\n",
    "    #....\n",
    "    print ('Falsy')\n",
    "\n",
    "nulo = None\n",
    "    if(nulo): #Falsy\n",
    "        print ('Truty')\n",
    "    else:\n",
    "        print (Falsy)\n",
    "        \n",
    " if(1): #Falsy\n",
    "        print ('Truty')\n",
    "    else:\n",
    "        print ('Falsy')\n",
    " if(-1): #Falsy\n",
    "        print ('Truty')\n",
    "    else:\n",
    "        print ('Falsy')\n",
    "        \n",
    "if (0): #Falsy\n",
    "        print ('Truty')\n",
    "    else:\n",
    "        print ('Falsy')\n",
    "\n",
    "if(1.2): #Falsy\n",
    "        print ('Truty')\n",
    "    else:\n",
    "        print ('Falsy')"
   ]
  },
  {
   "cell_type": "code",
   "execution_count": 14,
   "metadata": {},
   "outputs": [
    {
     "name": "stdout",
     "output_type": "stream",
     "text": [
      "Truty\n",
      "Truty\n",
      "Truty\n"
     ]
    }
   ],
   "source": [
    "#tuplas =(1,2,3) # arreglos que no se pueden modificar\n",
    "#listas = [4,5,6] # arreglos que se pueden modificar\n",
    "#diccionario ={ \"nombre\":\"Ana\"}\n",
    "\n",
    "    \n",
    "if (()): #Falsy\n",
    "    print ('Falsy')\n",
    "else :\n",
    "    print ('Truty')\n",
    "    \n",
    "# dICCIONARIO\n",
    "nombre = \"nombre\"\n",
    "if [{nombre: \"Ana\"}]:#truty\n",
    "    print ('Truty')\n",
    "else:\n",
    "           print ('Falsy')\n",
    "if [{}]:# Falsy\n",
    "    print ('Truty')\n",
    "else:\n",
    "           print ('Falsy')"
   ]
  },
  {
   "cell_type": "code",
   "execution_count": 20,
   "metadata": {},
   "outputs": [],
   "source": [
    "# Arreglos\n",
    "# 1 definimos un arreglo de 1 al 10\n",
    "# 2 filtrar el arreglo \n",
    "arreglo = [1, 2, 3, 4, 5 ,6 ,7 ,8,9 ,10]"
   ]
  },
  {
   "cell_type": "code",
   "execution_count": 28,
   "metadata": {},
   "outputs": [
    {
     "data": {
      "text/plain": [
       "(6, 7, 8, 9)"
      ]
     },
     "execution_count": 28,
     "metadata": {},
     "output_type": "execute_result"
    }
   ],
   "source": [
    "# 2 filtral el arreglo\n",
    "arreglo [0:3] # [0,3{\n",
    "arreglo [5:] # coge hasta el final desde el 5 hasta el final\n",
    "arreglo [:7]# coge desde el principio\n",
    "arreglo [-1]# indice negativo empieza desde el final\n",
    "arreglo [3:-2] # -2 es el 9\n",
    "arreglo [-8:8] # -8 es el 3 y 8 es el indice 9\n",
    "arreglo [-4:-1] # resultado 7, 8, 9 tomando en cuenta que el -1 es el 10 y el -4 es el 7\n",
    "arreglo [-7:] #4, 5, 6, 7, 8, 9, 10\n",
    "arreglo [:-3]# respuesta 1, 2, 3, 4, 5, 6, 7\n",
    "arreglo [:] #1, 2, 3, 4, 5, 6, 7, 8, 9, 10 sirve para clonar arreglos\n",
    "\n",
    "# que pasa cuando se difine una tupla\n",
    "arregloTupla = (1, 2, 3, 4, 5, 6, 7, 8, 9, 10)\n",
    "arregloTupla [5:9] #  respuesta(6, 7, 8, 9)"
   ]
  },
  {
   "cell_type": "code",
   "execution_count": 35,
   "metadata": {},
   "outputs": [
    {
     "data": {
      "text/plain": [
       "'Eguez'"
      ]
     },
     "execution_count": 35,
     "metadata": {},
     "output_type": "execute_result"
    }
   ],
   "source": [
    "#los diccionarios siempre necesitan una llave pararesponder\n",
    "# por eso siempre en el corchete de diccionario en necesario poner un valor\n",
    "diccionario = {\n",
    "    \"nombre\":\"Adrian\",\n",
    "    \"apellido\":\"Eguez\",\n",
    "    \"sueldo\":1.2\n",
    "}\n",
    "diccionario [\"apellido\"]"
   ]
  },
  {
   "cell_type": "code",
   "execution_count": 38,
   "metadata": {},
   "outputs": [
    {
     "data": {
      "text/plain": [
       "False"
      ]
     },
     "execution_count": 38,
     "metadata": {},
     "output_type": "execute_result"
    }
   ],
   "source": [
    "# palabra clave para buscar valores dentro de un arreglo, tuplas o listas\n",
    "12 in arreglo # false porque en el arreglo hay hasta el 10\n",
    "\"1\" in arreglo # false no tenemos string\n"
   ]
  },
  {
   "cell_type": "code",
   "execution_count": 39,
   "metadata": {},
   "outputs": [
    {
     "name": "stdout",
     "output_type": "stream",
     "text": [
      "<class 'bool'>\n"
     ]
    }
   ],
   "source": [
    "print (type(12 in arreglo)) # para comprobar el tipo de datos q devuelve"
   ]
  },
  {
   "cell_type": "code",
   "execution_count": 42,
   "metadata": {},
   "outputs": [
    {
     "data": {
      "text/plain": [
       "3"
      ]
     },
     "execution_count": 42,
     "metadata": {},
     "output_type": "execute_result"
    }
   ],
   "source": [
    "# len ayuda aver la longitud de elementos que tiene un objeto\n",
    "len(arreglo)# devuelve el total del arreglo 10\n",
    "len (arregloTupla)\n",
    "len (diccionario) # devuelve la longitus, es decir 3 (nombre, apellido, sueldo)\n"
   ]
  },
  {
   "cell_type": "code",
   "execution_count": 43,
   "metadata": {},
   "outputs": [
    {
     "data": {
      "text/plain": [
       "True"
      ]
     },
     "execution_count": 43,
     "metadata": {},
     "output_type": "execute_result"
    }
   ],
   "source": [
    "\"nombre\" in diccionario # para diccionarios se debe trabajar con las \"llaves\" -\"Keys\"\n",
    "                        "
   ]
  },
  {
   "cell_type": "code",
   "execution_count": null,
   "metadata": {},
   "outputs": [],
   "source": []
  }
 ],
 "metadata": {
  "kernelspec": {
   "display_name": "Python 3",
   "language": "python",
   "name": "python3"
  },
  "language_info": {
   "codemirror_mode": {
    "name": "ipython",
    "version": 3
   },
   "file_extension": ".py",
   "mimetype": "text/x-python",
   "name": "python",
   "nbconvert_exporter": "python",
   "pygments_lexer": "ipython3",
   "version": "3.7.6"
  }
 },
 "nbformat": 4,
 "nbformat_minor": 4
}
