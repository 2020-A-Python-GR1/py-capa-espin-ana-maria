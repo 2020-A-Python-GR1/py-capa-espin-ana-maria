{
 "cells": [
  {
   "cell_type": "code",
   "execution_count": 6,
   "metadata": {},
   "outputs": [
    {
     "name": "stdout",
     "output_type": "stream",
     "text": [
      "Suma\n"
     ]
    },
    {
     "data": {
      "text/plain": [
       "6"
      ]
     },
     "execution_count": 6,
     "metadata": {},
     "output_type": "execute_result"
    }
   ],
   "source": [
    "def calculadora (num_uno, num_dos, operacion = \"suma\"):# x defecto suma\n",
    "    def suma():\n",
    "        print (\"Suma\")\n",
    "        return num_uno + num_dos\n",
    "    \n",
    "    def resta():\n",
    "        print (\"Resta\")\n",
    "        return num_uno + num_dos\n",
    "    \n",
    "    def multiplicacion():\n",
    "        print (\"Multiplicacion\")\n",
    "        return num_uno * num_dos\n",
    "    \n",
    "    def division():\n",
    "        print (\"Division\")\n",
    "        return num_uno / num_dos\n",
    "    \n",
    "    # hacer un tipo de switch\n",
    "    def devolver_respuesta():\n",
    "    # al definir el diccionario ya estoy ejecutando todas\n",
    "    #las funciones\n",
    "        opciones = {\n",
    "            \"suma\":suma,\n",
    "            \"resta\":resta,\n",
    "            \"multiplicacion\":multiplicacion,\n",
    "            \"division\": division\n",
    "        }\n",
    "        return opciones[operacion]()\n",
    "    \n",
    "    return devolver_respuesta()\n",
    "\n",
    "calculadora(2,4)\n",
    "        "
   ]
  },
  {
   "cell_type": "code",
   "execution_count": null,
   "metadata": {
    "scrolled": true
   },
   "outputs": [],
   "source": [
    "#Funcion\n",
    "edad = input(\"Dime tu edad\")\n",
    "print(edad) #31\n",
    "print(type(edad))\n"
   ]
  },
  {
   "cell_type": "code",
   "execution_count": null,
   "metadata": {},
   "outputs": [],
   "source": []
  }
 ],
 "metadata": {
  "kernelspec": {
   "display_name": "Python 3",
   "language": "python",
   "name": "python3"
  },
  "language_info": {
   "codemirror_mode": {
    "name": "ipython",
    "version": 3
   },
   "file_extension": ".py",
   "mimetype": "text/x-python",
   "name": "python",
   "nbconvert_exporter": "python",
   "pygments_lexer": "ipython3",
   "version": "3.7.6"
  }
 },
 "nbformat": 4,
 "nbformat_minor": 4
}
