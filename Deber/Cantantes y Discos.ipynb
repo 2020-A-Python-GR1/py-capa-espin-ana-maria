{
 "cells": [
  {
   "cell_type": "code",
   "execution_count": 1,
   "metadata": {},
   "outputs": [
    {
     "name": "stdout",
     "output_type": "stream",
     "text": [
      "\n",
      "        ARMA TU PROPIA BUILD\n",
      "        1 -> Heroe\n",
      "        2 -> Item\n",
      "        3 -> Build\n",
      "        1\n",
      "\n",
      "        1 -> Insertar\n",
      "        2 -> Ver\n",
      "        3 -> Actualizar\n",
      "        4 -> Eliminar\n",
      "        1\n"
     ]
    },
    {
     "ename": "NameError",
     "evalue": "name 'operacion_crud' is not defined",
     "output_type": "error",
     "traceback": [
      "\u001b[1;31m---------------------------------------------------------------------------\u001b[0m",
      "\u001b[1;31mNameError\u001b[0m                                 Traceback (most recent call last)",
      "\u001b[1;32m<ipython-input-1-25b965e1cead>\u001b[0m in \u001b[0;36m<module>\u001b[1;34m\u001b[0m\n\u001b[0;32m     27\u001b[0m \u001b[1;33m\u001b[0m\u001b[0m\n\u001b[0;32m     28\u001b[0m \u001b[1;32mif\u001b[0m \u001b[0m__name__\u001b[0m \u001b[1;33m==\u001b[0m \u001b[1;34m\"__main__\"\u001b[0m\u001b[1;33m:\u001b[0m\u001b[1;33m\u001b[0m\u001b[1;33m\u001b[0m\u001b[0m\n\u001b[1;32m---> 29\u001b[1;33m     \u001b[0mmain\u001b[0m\u001b[1;33m(\u001b[0m\u001b[1;33m)\u001b[0m\u001b[1;33m\u001b[0m\u001b[1;33m\u001b[0m\u001b[0m\n\u001b[0m",
      "\u001b[1;32m<ipython-input-1-25b965e1cead>\u001b[0m in \u001b[0;36mmain\u001b[1;34m()\u001b[0m\n\u001b[0;32m     17\u001b[0m         \"\"\"))\n\u001b[0;32m     18\u001b[0m \u001b[1;33m\u001b[0m\u001b[0m\n\u001b[1;32m---> 19\u001b[1;33m         \u001b[0moperacion_crud\u001b[0m\u001b[1;33m(\u001b[0m\u001b[1;34mf\"{option}-{option_crud}\"\u001b[0m\u001b[1;33m)\u001b[0m\u001b[1;33m\u001b[0m\u001b[1;33m\u001b[0m\u001b[0m\n\u001b[0m\u001b[0;32m     20\u001b[0m \u001b[1;33m\u001b[0m\u001b[0m\n\u001b[0;32m     21\u001b[0m         exit = int(input(\"\"\"\n",
      "\u001b[1;31mNameError\u001b[0m: name 'operacion_crud' is not defined"
     ]
    }
   ],
   "source": [
    "def main():\n",
    "    exit = 0\n",
    "    #heroe = Heroes(\"Nombre: \",\"Fuerza: \",\"Mana: \",\"Armadura: \",\"Daño: \",\"Resistencia magica: \",\"Velocidad de movimiento: \",\"Velocidad de ataque: \")\n",
    "    while(not(exit)):\n",
    "        option = input(\"\"\"\n",
    "        ARMA TU PROPIA BUILD\n",
    "        1 -> Heroe\n",
    "        2 -> Item\n",
    "        3 -> Build\n",
    "        \"\"\")\n",
    "\n",
    "        option_crud = (input(\"\"\"\n",
    "        1 -> Insertar\n",
    "        2 -> Ver\n",
    "        3 -> Actualizar\n",
    "        4 -> Eliminar\n",
    "        \"\"\"))\n",
    "\n",
    "        operacion_crud(f\"{option}-{option_crud}\")\n",
    "\n",
    "        exit = int(input(\"\"\"\n",
    "        ¿Desea salir?\n",
    "        si -> 1\n",
    "        no -> 0\n",
    "        \"\"\"))\n",
    "\n",
    "    \n",
    "if __name__ == \"__main__\":\n",
    "    main()"
   ]
  },
  {
   "cell_type": "code",
   "execution_count": null,
   "metadata": {},
   "outputs": [],
   "source": [
    "def menu():\n",
    "    exit = 0    \n",
    "    while(not(exit)):\n",
    "    print(\"========================\")\n",
    "        print(\"  BIENVENIDO AL GESTOR  \")\n",
    "        print(\"========================\")\n",
    "        print(\"[1] Listar Cantantes    \")\n",
    "        print(\"[2] Mostrar Cantantes     \")\n",
    "        print(\"[3] Añadir Cantantes      \")\n",
    "        print(\"[4] Modificar Cantanates   \")\n",
    "        print(\"[5] Borrar Cantantes      \")\n",
    "        print(\"[6] Salir               \")\n",
    "        print(\"========================\")\n",
    "\n",
    "        option = input(\"> \")\n",
    "        \n",
    "if __name__ == \"__menu__\":\n",
    "    menu()\n",
    "    "
   ]
  },
  {
   "cell_type": "code",
   "execution_count": null,
   "metadata": {},
   "outputs": [],
   "source": []
  }
 ],
 "metadata": {
  "kernelspec": {
   "display_name": "Python 3",
   "language": "python",
   "name": "python3"
  },
  "language_info": {
   "codemirror_mode": {
    "name": "ipython",
    "version": 3
   },
   "file_extension": ".py",
   "mimetype": "text/x-python",
   "name": "python",
   "nbconvert_exporter": "python",
   "pygments_lexer": "ipython3",
   "version": "3.7.6"
  }
 },
 "nbformat": 4,
 "nbformat_minor": 4
}
