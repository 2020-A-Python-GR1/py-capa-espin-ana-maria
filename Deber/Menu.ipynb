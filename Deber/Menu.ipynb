{
 "cells": [
  {
   "cell_type": "code",
   "execution_count": null,
   "metadata": {},
   "outputs": [],
   "source": [
    "\"\"\" Menú del programa \"\"\"\n",
    "\n",
    "\n",
    "\n",
    "\n",
    "def loop():\n",
    "\n",
    "    while True:\n",
    "\n",
    "        os.system('cls')  # 'clear' para Linux y OS X\n",
    "\n",
    "        print(\"========================\")\n",
    "        print(\"  BIENVENIDO AL GESTOR  \")\n",
    "        print(\"========================\")\n",
    "        print(\"[1] Listar clientes     \")\n",
    "        print(\"[2] Mostrar cliente     \")\n",
    "        print(\"[3] Añadir cliente      \")\n",
    "        print(\"[4] Modificar cliente   \")\n",
    "        print(\"[5] Borrar cliente      \")\n",
    "        print(\"[6] Salir               \")\n",
    "        print(\"========================\")\n",
    "\n",
    "        option = input(\"> \")\n",
    "\n",
    "        os.system('cls')  # 'clear' para Linux y OS X\n",
    "\n",
    "        if option == '1':\n",
    "            print(\"Listando los clientes...\\n\")\n",
    "            #show_all()            \n",
    "        if option == '2':\n",
    "            print(\"Mostrando un cliente...\\n\")\n",
    "            # TODO\n",
    "        if option == '3':\n",
    "            print(\"Modificando un cliente...\\n\")\n",
    "            # TODO\n",
    "        if option == '4':\n",
    "            print(\"Modificando un cliente...\\n\")\n",
    "            # TODO\n",
    "        if option == '5':\n",
    "            print(\"Borrando un cliente...\\n\")\n",
    "            # TODO\n",
    "        if option == '6':\n",
    "            print(\"Saliendo...\\n\")\n",
    "            break\n",
    "\n",
    "        input(\"\\nPresiona ENTER para continuar...\")\n"
   ]
  },
  {
   "cell_type": "code",
   "execution_count": null,
   "metadata": {},
   "outputs": [],
   "source": [
    "def main():\n",
    "    loop()\n",
    "if __name__ == \"__main__\":\n",
    "    main()"
   ]
  },
  {
   "cell_type": "code",
   "execution_count": null,
   "metadata": {},
   "outputs": [],
   "source": [
    "def insertar_heroes():\n",
    "        heroe = Heroes(input(\"Nombre: \"),input(\"Fuerza: \"),input(\"Mana: \"),input(\"Armadura: \"),input(\"Daño: \"),input(\"Arcana: \"))\n",
    "        return procesamiento.insertar(path_heores, str(heroe))"
   ]
  },
  {
   "cell_type": "code",
   "execution_count": null,
   "metadata": {},
   "outputs": [],
   "source": []
  },
  {
   "cell_type": "code",
   "execution_count": null,
   "metadata": {},
   "outputs": [],
   "source": []
  }
 ],
 "metadata": {
  "kernelspec": {
   "display_name": "Python 3",
   "language": "python",
   "name": "python3"
  },
  "language_info": {
   "codemirror_mode": {
    "name": "ipython",
    "version": 3
   },
   "file_extension": ".py",
   "mimetype": "text/x-python",
   "name": "python",
   "nbconvert_exporter": "python",
   "pygments_lexer": "ipython3",
   "version": "3.7.6"
  }
 },
 "nbformat": 4,
 "nbformat_minor": 4
}
