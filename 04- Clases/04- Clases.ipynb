{
 "cells": [
  {
   "cell_type": "code",
   "execution_count": 1,
   "metadata": {},
   "outputs": [
    {
     "data": {
      "text/plain": [
       "4"
      ]
     },
     "execution_count": 1,
     "metadata": {},
     "output_type": "execute_result"
    }
   ],
   "source": [
    "# funciones lambda\n",
    "def elevar_al_cuadrado (numero):\n",
    "    return numero * numero\n",
    "elevar_al_cuadrado(2)"
   ]
  },
  {
   "cell_type": "code",
   "execution_count": 2,
   "metadata": {},
   "outputs": [],
   "source": [
    "al_cuadrado = lambda x : x * x"
   ]
  },
  {
   "cell_type": "code",
   "execution_count": 3,
   "metadata": {},
   "outputs": [],
   "source": [
    "sumar_dos_numeros = lambda x, y : x + y"
   ]
  },
  {
   "cell_type": "code",
   "execution_count": 4,
   "metadata": {},
   "outputs": [
    {
     "data": {
      "text/plain": [
       "6"
      ]
     },
     "execution_count": 4,
     "metadata": {},
     "output_type": "execute_result"
    }
   ],
   "source": [
    "sumar_dos_numeros (2,4)"
   ]
  },
  {
   "cell_type": "code",
   "execution_count": 5,
   "metadata": {},
   "outputs": [
    {
     "data": {
      "text/plain": [
       "25"
      ]
     },
     "execution_count": 5,
     "metadata": {},
     "output_type": "execute_result"
    }
   ],
   "source": [
    "al_cuadrado (5)"
   ]
  },
  {
   "cell_type": "code",
   "execution_count": 6,
   "metadata": {},
   "outputs": [],
   "source": [
    "# Clases se puede definir la clase y luego implementarla\n",
    "# pass que se utilizará a futuro\n",
    "class Nada:\n",
    "    pass"
   ]
  },
  {
   "cell_type": "code",
   "execution_count": 7,
   "metadata": {},
   "outputs": [],
   "source": [
    "una_nada =Nada()"
   ]
  },
  {
   "cell_type": "code",
   "execution_count": 8,
   "metadata": {},
   "outputs": [
    {
     "name": "stdout",
     "output_type": "stream",
     "text": [
      "<__main__.Nada object at 0x000001A020BECD88>\n",
      "<class '__main__.Nada'>\n"
     ]
    }
   ],
   "source": [
    "print (una_nada)\n",
    "print(type(una_nada))"
   ]
  },
  {
   "cell_type": "code",
   "execution_count": 16,
   "metadata": {},
   "outputs": [
    {
     "name": "stdout",
     "output_type": "stream",
     "text": [
      "Empezó el constructor\n",
      "Negro\n",
      "140.39999999999998\n",
      "Calor:Negro \n",
      "Numero Chasis:120\n"
     ]
    }
   ],
   "source": [
    "class Auto:\n",
    "    #propiedadesy metodos q tendra la clase\n",
    "    color = None #asi atributospublicos\n",
    "    __numero_chasis =1 #asi atributos privados\n",
    "    \n",
    "    def __init__(self, color): # aqui se define constructor\n",
    "       print (\"Empezó el constructor\") # self = this\n",
    "       self.color = color\n",
    "        \n",
    "   #aqui devuelve el numero de chasis\n",
    "    def setear_chasis(self, numero_chasis): # Metodo publico\n",
    "        self.__numero_chasis = numero_chasis\n",
    "        return self.__calculo_chasis() #self.__numero_chasis\n",
    "    \n",
    "    # aqui calculamos\n",
    "    def __calculo_chasis(self): #metodo privado\n",
    "        return self.__numero_chasis * 1.17\n",
    "    # overwrite sobre escribir la clase\n",
    "    def __str__(self):\n",
    "        parte_uno = f\"Calor:{self.color} \\n\"\n",
    "        parte_dos = f\"Numero Chasis:{self.__numero_chasis}\"\n",
    "        return parte_uno + parte_dos \n",
    "\n",
    "nuevo_auto = Auto(\"Negro\")\n",
    "print(nuevo_auto.color)\n",
    "print(nuevo_auto.setear_chasis(120))\n",
    "print (nuevo_auto)"
   ]
  },
  {
   "cell_type": "code",
   "execution_count": 18,
   "metadata": {},
   "outputs": [],
   "source": [
    "#heredar una clase\n",
    "class BMW(Auto):\n",
    "# necesitamos inicializar el constructor de arriba\n",
    "    def __init__(self, color, chasis):\n",
    "        print (\"Iniciar constructor Hijo\")\n",
    "        super().__init__(color)\n",
    "        super().setear_chasis(chasis)"
   ]
  },
  {
   "cell_type": "code",
   "execution_count": 19,
   "metadata": {},
   "outputs": [
    {
     "name": "stdout",
     "output_type": "stream",
     "text": [
      "Iniciar constructor Hijo\n",
      "Empezó el constructor\n",
      "Calor:Blanco \n",
      "Numero Chasis:150\n"
     ]
    }
   ],
   "source": [
    "nuevo_bmw = BMW(\"Blanco\", 150)\n",
    "print(nuevo_bmw)"
   ]
  },
  {
   "cell_type": "code",
   "execution_count": null,
   "metadata": {},
   "outputs": [],
   "source": []
  }
 ],
 "metadata": {
  "kernelspec": {
   "display_name": "Python 3",
   "language": "python",
   "name": "python3"
  },
  "language_info": {
   "codemirror_mode": {
    "name": "ipython",
    "version": 3
   },
   "file_extension": ".py",
   "mimetype": "text/x-python",
   "name": "python",
   "nbconvert_exporter": "python",
   "pygments_lexer": "ipython3",
   "version": "3.7.6"
  }
 },
 "nbformat": 4,
 "nbformat_minor": 4
}
